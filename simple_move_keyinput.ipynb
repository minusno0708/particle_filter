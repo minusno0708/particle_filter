{
 "cells": [
  {
   "cell_type": "code",
   "execution_count": 6,
   "id": "64fffb9d",
   "metadata": {},
   "outputs": [],
   "source": [
    "import numpy as np\n",
    "import matplotlib.pyplot as plt\n",
    "\n",
    "from random import random"
   ]
  },
  {
   "cell_type": "code",
   "execution_count": 7,
   "id": "4da7a3b9",
   "metadata": {},
   "outputs": [],
   "source": [
    "area = 5\n",
    " \n",
    "# 移動確率\n",
    "p = 0.8\n",
    "\n",
    "# 粒子数\n",
    "n = 10"
   ]
  },
  {
   "cell_type": "code",
   "execution_count": 8,
   "id": "71872e05",
   "metadata": {},
   "outputs": [],
   "source": [
    "def move_particle(action, s):\n",
    "    result = np.zeros(area)\n",
    "    \n",
    "    for i in range(area):        \n",
    "        if i+action<=-1 or i+action >= area:\n",
    "            result[i] += s[i]\n",
    "        else:\n",
    "            result[i+action] += s[i]\n",
    "    \n",
    "    return result\n",
    "\n",
    "def watch_P(robot):\n",
    "    result = np.zeros([area])\n",
    "    result += 0.02\n",
    "    \n",
    "    if robot <= 0 or robot >= area-1:\n",
    "        result[robot] = 0.7\n",
    "    else:\n",
    "        result[1:area-1] = 0.7\n",
    "        \n",
    "    return result\n",
    "\n",
    "def resampling(s):\n",
    "    s = s/(np.sum(s)/n)\n",
    "    result = np.int64(s)\n",
    "    if np.sum(result) < 10:\n",
    "        s *= result==0\n",
    "        result[np.argmax(s)] += 1\n",
    "    return result"
   ]
  },
  {
   "cell_type": "code",
   "execution_count": 9,
   "id": "595440c2",
   "metadata": {},
   "outputs": [
    {
     "name": "stdout",
     "output_type": "stream",
     "text": [
      "[2. 2. 2. 2. 2.]\n",
      "d\n",
      "[0 3 3 3 1]\n",
      "d\n",
      "[0 0 1 0 9]\n",
      "a\n",
      "[0 1 0 9 0]\n",
      "c\n"
     ]
    }
   ],
   "source": [
    "s = np.zeros(area) + n/area\n",
    "print(s)\n",
    "\n",
    "robot = 2\n",
    "\n",
    "while 1:\n",
    "    key = input()\n",
    "    if key == \"a\":\n",
    "        action = -1\n",
    "    elif key == \"d\":\n",
    "        action = 1\n",
    "    elif key == \"c\":\n",
    "        break\n",
    "    else:\n",
    "        action = 0\n",
    "    \n",
    "    if robot+action >=  0 and robot+action <= area-1: \n",
    "        robot += action\n",
    "    s = watch_P(robot)*move_particle(action, s)\n",
    "    s = resampling(s)\n",
    "    print(s)"
   ]
  },
  {
   "cell_type": "code",
   "execution_count": null,
   "id": "dc7c66c6",
   "metadata": {},
   "outputs": [],
   "source": []
  }
 ],
 "metadata": {
  "kernelspec": {
   "display_name": "Python 3 (ipykernel)",
   "language": "python",
   "name": "python3"
  },
  "language_info": {
   "codemirror_mode": {
    "name": "ipython",
    "version": 3
   },
   "file_extension": ".py",
   "mimetype": "text/x-python",
   "name": "python",
   "nbconvert_exporter": "python",
   "pygments_lexer": "ipython3",
   "version": "3.8.13"
  }
 },
 "nbformat": 4,
 "nbformat_minor": 5
}
