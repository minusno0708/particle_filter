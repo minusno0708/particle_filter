{
 "cells": [
  {
   "cell_type": "code",
   "execution_count": 2,
   "id": "20fcebe9",
   "metadata": {},
   "outputs": [],
   "source": [
    "import numpy as np\n",
    "import matplotlib.pyplot as plt\n",
    "\n",
    "from random import random"
   ]
  },
  {
   "cell_type": "code",
   "execution_count": 19,
   "id": "09f08872",
   "metadata": {},
   "outputs": [],
   "source": [
    "area = 5\n",
    " \n",
    "# 移動確率\n",
    "p = 0.8\n",
    "\n",
    "# 粒子数\n",
    "n = 10"
   ]
  },
  {
   "cell_type": "code",
   "execution_count": 25,
   "id": "a95dc1dd",
   "metadata": {},
   "outputs": [],
   "source": [
    "def move_particle(action, s):\n",
    "    result = np.zeros(area)\n",
    "    \n",
    "    for i in range(area):        \n",
    "        if i+action<=-1 or i+action >= area:\n",
    "            result[i] += s[i]\n",
    "        else:\n",
    "            result[i+action] += s[i]\n",
    "    \n",
    "    return result\n",
    "\n",
    "def watch_P(robot):\n",
    "    result = np.zeros([area])\n",
    "    result += 0.02\n",
    "    \n",
    "    if robot <= 0 or robot >= area-1:\n",
    "        result[robot] = 0.7\n",
    "    else:\n",
    "        result[1:area-1] = 0.7\n",
    "        \n",
    "    return result"
   ]
  },
  {
   "cell_type": "code",
   "execution_count": 40,
   "id": "3e0d2d5c",
   "metadata": {},
   "outputs": [
    {
     "name": "stdout",
     "output_type": "stream",
     "text": [
      "[2. 2. 2. 2. 2.]\n",
      "[0. 0. 0. 0. 0.]\n",
      "[0. 0. 0. 0. 0.]\n",
      "[0. 0. 0. 0. 0.]\n",
      "[0.         0.02564103 0.02564103 0.94871795 0.        ]\n"
     ]
    }
   ],
   "source": [
    "s = np.zeros(area) + n/area\n",
    "print(s)\n",
    "\n",
    "action = [1, 1, -1]\n",
    "\n",
    "robot = 2\n",
    "\n",
    "for i in action:\n",
    "    if robot+i >=  0 and robot+i <= area-1: \n",
    "        robot += i\n",
    "    s = watch_P(robot)*move_particle(i, s)\n",
    "    s = s/(np.sum(s))\n",
    "    print(np.floor(s))\n",
    "    \n",
    "print(s)"
   ]
  },
  {
   "cell_type": "code",
   "execution_count": null,
   "id": "764e4d3b",
   "metadata": {},
   "outputs": [],
   "source": []
  }
 ],
 "metadata": {
  "kernelspec": {
   "display_name": "Python 3 (ipykernel)",
   "language": "python",
   "name": "python3"
  },
  "language_info": {
   "codemirror_mode": {
    "name": "ipython",
    "version": 3
   },
   "file_extension": ".py",
   "mimetype": "text/x-python",
   "name": "python",
   "nbconvert_exporter": "python",
   "pygments_lexer": "ipython3",
   "version": "3.8.13"
  }
 },
 "nbformat": 4,
 "nbformat_minor": 5
}
